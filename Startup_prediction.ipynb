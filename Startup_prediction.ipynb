{
 "cells": [
  {
   "cell_type": "code",
   "execution_count": 31,
   "id": "aabc25c0-4ddf-454a-b4bd-6751f465d17c",
   "metadata": {},
   "outputs": [
    {
     "name": "stdout",
     "output_type": "stream",
     "text": [
      "Requirement already satisfied: pandas in c:\\users\\jignesh\\appdata\\local\\programs\\python\\python311\\lib\\site-packages (2.1.1)\n",
      "Note: you may need to restart the kernel to use updated packages.\n"
     ]
    },
    {
     "name": "stderr",
     "output_type": "stream",
     "text": [
      "DEPRECATION: Loading egg at c:\\users\\jignesh\\appdata\\roaming\\python\\python311\\site-packages\\sccd-1.0.0-py3.11.egg is deprecated. pip 24.3 will enforce this behaviour change. A possible replacement is to use pip for package installation. Discussion can be found at https://github.com/pypa/pip/issues/12330\n",
      "ERROR: Could not find a version that satisfies the requirement tkinter (from versions: none)\n",
      "ERROR: No matching distribution found for tkinter\n"
     ]
    }
   ],
   "source": [
    "pip install pandas tkinter tensorflow sklearn\n"
   ]
  },
  {
   "cell_type": "code",
   "execution_count": 32,
   "id": "4189d01a-0564-47be-a1a6-a4257b8d7d5b",
   "metadata": {},
   "outputs": [
    {
     "name": "stdout",
     "output_type": "stream",
     "text": [
      "Requirement already satisfied: Tk in c:\\users\\jignesh\\appdata\\local\\programs\\python\\python311\\lib\\site-packages (0.1.0)Note: you may need to restart the kernel to use updated packages.\n"
     ]
    },
    {
     "name": "stderr",
     "output_type": "stream",
     "text": [
      "DEPRECATION: Loading egg at c:\\users\\jignesh\\appdata\\roaming\\python\\python311\\site-packages\\sccd-1.0.0-py3.11.egg is deprecated. pip 24.3 will enforce this behaviour change. A possible replacement is to use pip for package installation. Discussion can be found at https://github.com/pypa/pip/issues/12330\n"
     ]
    },
    {
     "name": "stdout",
     "output_type": "stream",
     "text": [
      "\n"
     ]
    }
   ],
   "source": [
    "pip install Tk"
   ]
  },
  {
   "cell_type": "code",
   "execution_count": 33,
   "id": "ef86be04-954f-42b8-9460-5faf5968df08",
   "metadata": {},
   "outputs": [],
   "source": [
    "import pandas as pd\n",
    "from sklearn.model_selection import train_test_split\n",
    "from sklearn.preprocessing import StandardScaler, OneHotEncoder\n",
    "from sklearn.compose import ColumnTransformer\n",
    "from sklearn.pipeline import Pipeline\n",
    "from sklearn.impute import SimpleImputer\n",
    "from tensorflow.keras.models import Sequential\n",
    "from tensorflow.keras.layers import Dense\n",
    "from tensorflow.keras.callbacks import EarlyStopping\n",
    "import tkinter as tk\n",
    "from tkinter import ttk\n"
   ]
  },
  {
   "cell_type": "code",
   "execution_count": 34,
   "id": "e21ac72e-2f85-49a5-b8cf-7e32b08a02f4",
   "metadata": {},
   "outputs": [],
   "source": [
    "# Load your dataset\n",
    "file_path = 'startup_data.csv'\n",
    "startup_data = pd.read_csv(file_path)"
   ]
  },
  {
   "cell_type": "code",
   "execution_count": 35,
   "id": "ecc8d46e-cf5f-415a-b5b0-c8577e0ed0de",
   "metadata": {},
   "outputs": [],
   "source": [
    "# Drop unnecessary columns and handle missing values\n",
    "startup_data = startup_data.drop(columns=['Unnamed: 0', 'Unnamed: 6', 'id', 'object_id', 'latitude', 'longitude', 'zip_code'])"
   ]
  },
  {
   "cell_type": "code",
   "execution_count": 36,
   "id": "d76f8499-0df1-4a14-89c5-7107ebc2ac78",
   "metadata": {},
   "outputs": [],
   "source": [
    "# Separate features and target variable\n",
    "X = startup_data.drop(columns=['status'])\n",
    "y = startup_data['status']"
   ]
  },
  {
   "cell_type": "code",
   "execution_count": 37,
   "id": "a6c8f7e0-c741-496e-90b9-93a9dbafe533",
   "metadata": {},
   "outputs": [],
   "source": [
    "# Encode the target variable\n",
    "y = y.apply(lambda x: 1 if x == 'acquired' else 0)  # 1 for acquired, 0 for closed"
   ]
  },
  {
   "cell_type": "code",
   "execution_count": 38,
   "id": "12151a8c-1d40-4663-a94e-d48825f0a264",
   "metadata": {},
   "outputs": [],
   "source": [
    "# Identify categorical and numerical columns\n",
    "categorical_cols = X.select_dtypes(include=['object']).columns\n",
    "numerical_cols = X.select_dtypes(include=['int64', 'float64']).columns"
   ]
  },
  {
   "cell_type": "code",
   "execution_count": 39,
   "id": "5cc1dd29-e05a-442b-bbb5-2ab50a1d2868",
   "metadata": {},
   "outputs": [],
   "source": [
    "# Preprocessing for numerical data\n",
    "numerical_transformer = Pipeline(steps=[\n",
    "    ('imputer', SimpleImputer(strategy='median')),\n",
    "    ('scaler', StandardScaler())\n",
    "])"
   ]
  },
  {
   "cell_type": "code",
   "execution_count": 40,
   "id": "ad468a47-83b3-4524-9b89-6c15d31851b3",
   "metadata": {},
   "outputs": [],
   "source": [
    "# Preprocessing for categorical data\n",
    "categorical_transformer = Pipeline(steps=[\n",
    "    ('imputer', SimpleImputer(strategy='most_frequent')),\n",
    "    ('onehot', OneHotEncoder(handle_unknown='ignore'))\n",
    "])\n"
   ]
  },
  {
   "cell_type": "code",
   "execution_count": 41,
   "id": "ac87ab75-6fc3-4466-aa77-60a7f21b4844",
   "metadata": {},
   "outputs": [],
   "source": [
    "# Combine preprocessing steps\n",
    "preprocessor = ColumnTransformer(\n",
    "    transformers=[\n",
    "        ('num', numerical_transformer, numerical_cols),\n",
    "        ('cat', categorical_transformer, categorical_cols)\n",
    "    ])"
   ]
  },
  {
   "cell_type": "code",
   "execution_count": 42,
   "id": "754e5f85-203a-426b-b6f5-1c0fb424ce38",
   "metadata": {},
   "outputs": [],
   "source": [
    "# Preprocess the data\n",
    "X_preprocessed = preprocessor.fit_transform(X)"
   ]
  },
  {
   "cell_type": "code",
   "execution_count": 43,
   "id": "44e9c93b-50b0-4b2f-9e40-ace08c2adee3",
   "metadata": {},
   "outputs": [],
   "source": [
    "# Split the data into training and testing sets\n",
    "X_train, X_test, y_train, y_test = train_test_split(X_preprocessed, y, test_size=0.2, random_state=42)"
   ]
  },
  {
   "cell_type": "code",
   "execution_count": 44,
   "id": "ac19f35b-bb97-4259-b63a-593143b54575",
   "metadata": {},
   "outputs": [
    {
     "name": "stderr",
     "output_type": "stream",
     "text": [
      "C:\\Users\\JIGNESH\\AppData\\Local\\Programs\\Python\\Python311\\Lib\\site-packages\\keras\\src\\layers\\core\\dense.py:87: UserWarning: Do not pass an `input_shape`/`input_dim` argument to a layer. When using Sequential models, prefer using an `Input(shape)` object as the first layer in the model instead.\n",
      "  super().__init__(activity_regularizer=activity_regularizer, **kwargs)\n"
     ]
    }
   ],
   "source": [
    "# Define the TensorFlow model\n",
    "model = Sequential([\n",
    "    Dense(64, activation='relu', input_shape=(X_train.shape[1],)),\n",
    "    Dense(32, activation='relu'),\n",
    "    Dense(1, activation='sigmoid')\n",
    "])"
   ]
  },
  {
   "cell_type": "code",
   "execution_count": 45,
   "id": "30bf29e4-f537-4ff6-9e77-c04f6f4280e2",
   "metadata": {},
   "outputs": [],
   "source": [
    "model.compile(optimizer='adam', loss='binary_crossentropy', metrics=['accuracy'])"
   ]
  },
  {
   "cell_type": "code",
   "execution_count": 46,
   "id": "36648fa0-58c8-4504-9c4d-25e8e9de244d",
   "metadata": {},
   "outputs": [],
   "source": [
    "# Early stopping callback to prevent overfitting\n",
    "early_stopping = EarlyStopping(monitor='val_loss', patience=5, restore_best_weights=True)"
   ]
  },
  {
   "cell_type": "code",
   "execution_count": 47,
   "id": "21061bad-0ffb-413d-b5c3-b06948f24cfc",
   "metadata": {},
   "outputs": [
    {
     "name": "stdout",
     "output_type": "stream",
     "text": [
      "Epoch 1/50\n",
      "\u001b[1m19/19\u001b[0m \u001b[32m━━━━━━━━━━━━━━━━━━━━\u001b[0m\u001b[37m\u001b[0m \u001b[1m1s\u001b[0m 17ms/step - accuracy: 0.7015 - loss: 0.6511 - val_accuracy: 0.8311 - val_loss: 0.5165\n",
      "Epoch 2/50\n",
      "\u001b[1m19/19\u001b[0m \u001b[32m━━━━━━━━━━━━━━━━━━━━\u001b[0m\u001b[37m\u001b[0m \u001b[1m0s\u001b[0m 5ms/step - accuracy: 0.9018 - loss: 0.4385 - val_accuracy: 0.8784 - val_loss: 0.3531\n",
      "Epoch 3/50\n",
      "\u001b[1m19/19\u001b[0m \u001b[32m━━━━━━━━━━━━━━━━━━━━\u001b[0m\u001b[37m\u001b[0m \u001b[1m0s\u001b[0m 5ms/step - accuracy: 0.9394 - loss: 0.2489 - val_accuracy: 0.9459 - val_loss: 0.2031\n",
      "Epoch 4/50\n",
      "\u001b[1m19/19\u001b[0m \u001b[32m━━━━━━━━━━━━━━━━━━━━\u001b[0m\u001b[37m\u001b[0m \u001b[1m0s\u001b[0m 5ms/step - accuracy: 0.9819 - loss: 0.1110 - val_accuracy: 0.9797 - val_loss: 0.1025\n",
      "Epoch 5/50\n",
      "\u001b[1m19/19\u001b[0m \u001b[32m━━━━━━━━━━━━━━━━━━━━\u001b[0m\u001b[37m\u001b[0m \u001b[1m0s\u001b[0m 5ms/step - accuracy: 1.0000 - loss: 0.0310 - val_accuracy: 0.9865 - val_loss: 0.0626\n",
      "Epoch 6/50\n",
      "\u001b[1m19/19\u001b[0m \u001b[32m━━━━━━━━━━━━━━━━━━━━\u001b[0m\u001b[37m\u001b[0m \u001b[1m0s\u001b[0m 5ms/step - accuracy: 1.0000 - loss: 0.0143 - val_accuracy: 0.9865 - val_loss: 0.0454\n",
      "Epoch 7/50\n",
      "\u001b[1m19/19\u001b[0m \u001b[32m━━━━━━━━━━━━━━━━━━━━\u001b[0m\u001b[37m\u001b[0m \u001b[1m0s\u001b[0m 5ms/step - accuracy: 1.0000 - loss: 0.0072 - val_accuracy: 0.9865 - val_loss: 0.0382\n",
      "Epoch 8/50\n",
      "\u001b[1m19/19\u001b[0m \u001b[32m━━━━━━━━━━━━━━━━━━━━\u001b[0m\u001b[37m\u001b[0m \u001b[1m0s\u001b[0m 5ms/step - accuracy: 1.0000 - loss: 0.0045 - val_accuracy: 0.9865 - val_loss: 0.0339\n",
      "Epoch 9/50\n",
      "\u001b[1m19/19\u001b[0m \u001b[32m━━━━━━━━━━━━━━━━━━━━\u001b[0m\u001b[37m\u001b[0m \u001b[1m0s\u001b[0m 5ms/step - accuracy: 1.0000 - loss: 0.0032 - val_accuracy: 0.9865 - val_loss: 0.0312\n",
      "Epoch 10/50\n",
      "\u001b[1m19/19\u001b[0m \u001b[32m━━━━━━━━━━━━━━━━━━━━\u001b[0m\u001b[37m\u001b[0m \u001b[1m0s\u001b[0m 6ms/step - accuracy: 1.0000 - loss: 0.0025 - val_accuracy: 0.9865 - val_loss: 0.0292\n",
      "Epoch 11/50\n",
      "\u001b[1m19/19\u001b[0m \u001b[32m━━━━━━━━━━━━━━━━━━━━\u001b[0m\u001b[37m\u001b[0m \u001b[1m0s\u001b[0m 5ms/step - accuracy: 1.0000 - loss: 0.0017 - val_accuracy: 0.9865 - val_loss: 0.0279\n",
      "Epoch 12/50\n",
      "\u001b[1m19/19\u001b[0m \u001b[32m━━━━━━━━━━━━━━━━━━━━\u001b[0m\u001b[37m\u001b[0m \u001b[1m0s\u001b[0m 6ms/step - accuracy: 1.0000 - loss: 0.0016 - val_accuracy: 0.9865 - val_loss: 0.0266\n",
      "Epoch 13/50\n",
      "\u001b[1m19/19\u001b[0m \u001b[32m━━━━━━━━━━━━━━━━━━━━\u001b[0m\u001b[37m\u001b[0m \u001b[1m0s\u001b[0m 5ms/step - accuracy: 1.0000 - loss: 0.0013 - val_accuracy: 0.9865 - val_loss: 0.0255\n",
      "Epoch 14/50\n",
      "\u001b[1m19/19\u001b[0m \u001b[32m━━━━━━━━━━━━━━━━━━━━\u001b[0m\u001b[37m\u001b[0m \u001b[1m0s\u001b[0m 5ms/step - accuracy: 1.0000 - loss: 0.0011 - val_accuracy: 0.9865 - val_loss: 0.0248\n",
      "Epoch 15/50\n",
      "\u001b[1m19/19\u001b[0m \u001b[32m━━━━━━━━━━━━━━━━━━━━\u001b[0m\u001b[37m\u001b[0m \u001b[1m0s\u001b[0m 5ms/step - accuracy: 1.0000 - loss: 8.0681e-04 - val_accuracy: 0.9865 - val_loss: 0.0242\n",
      "Epoch 16/50\n",
      "\u001b[1m19/19\u001b[0m \u001b[32m━━━━━━━━━━━━━━━━━━━━\u001b[0m\u001b[37m\u001b[0m \u001b[1m0s\u001b[0m 5ms/step - accuracy: 1.0000 - loss: 7.5199e-04 - val_accuracy: 0.9865 - val_loss: 0.0237\n",
      "Epoch 17/50\n",
      "\u001b[1m19/19\u001b[0m \u001b[32m━━━━━━━━━━━━━━━━━━━━\u001b[0m\u001b[37m\u001b[0m \u001b[1m0s\u001b[0m 5ms/step - accuracy: 1.0000 - loss: 6.9671e-04 - val_accuracy: 0.9865 - val_loss: 0.0231\n",
      "Epoch 18/50\n",
      "\u001b[1m19/19\u001b[0m \u001b[32m━━━━━━━━━━━━━━━━━━━━\u001b[0m\u001b[37m\u001b[0m \u001b[1m0s\u001b[0m 6ms/step - accuracy: 1.0000 - loss: 6.0666e-04 - val_accuracy: 0.9865 - val_loss: 0.0228\n",
      "Epoch 19/50\n",
      "\u001b[1m19/19\u001b[0m \u001b[32m━━━━━━━━━━━━━━━━━━━━\u001b[0m\u001b[37m\u001b[0m \u001b[1m0s\u001b[0m 9ms/step - accuracy: 1.0000 - loss: 5.2019e-04 - val_accuracy: 0.9865 - val_loss: 0.0225\n",
      "Epoch 20/50\n",
      "\u001b[1m19/19\u001b[0m \u001b[32m━━━━━━━━━━━━━━━━━━━━\u001b[0m\u001b[37m\u001b[0m \u001b[1m0s\u001b[0m 8ms/step - accuracy: 1.0000 - loss: 4.9446e-04 - val_accuracy: 0.9865 - val_loss: 0.0222\n",
      "Epoch 21/50\n",
      "\u001b[1m19/19\u001b[0m \u001b[32m━━━━━━━━━━━━━━━━━━━━\u001b[0m\u001b[37m\u001b[0m \u001b[1m0s\u001b[0m 5ms/step - accuracy: 1.0000 - loss: 4.2989e-04 - val_accuracy: 0.9865 - val_loss: 0.0219\n",
      "Epoch 22/50\n",
      "\u001b[1m19/19\u001b[0m \u001b[32m━━━━━━━━━━━━━━━━━━━━\u001b[0m\u001b[37m\u001b[0m \u001b[1m0s\u001b[0m 7ms/step - accuracy: 1.0000 - loss: 3.5235e-04 - val_accuracy: 0.9865 - val_loss: 0.0218\n",
      "Epoch 23/50\n",
      "\u001b[1m19/19\u001b[0m \u001b[32m━━━━━━━━━━━━━━━━━━━━\u001b[0m\u001b[37m\u001b[0m \u001b[1m0s\u001b[0m 12ms/step - accuracy: 1.0000 - loss: 3.4728e-04 - val_accuracy: 0.9865 - val_loss: 0.0216\n",
      "Epoch 24/50\n",
      "\u001b[1m19/19\u001b[0m \u001b[32m━━━━━━━━━━━━━━━━━━━━\u001b[0m\u001b[37m\u001b[0m \u001b[1m0s\u001b[0m 6ms/step - accuracy: 1.0000 - loss: 3.3431e-04 - val_accuracy: 0.9865 - val_loss: 0.0213\n",
      "Epoch 25/50\n",
      "\u001b[1m19/19\u001b[0m \u001b[32m━━━━━━━━━━━━━━━━━━━━\u001b[0m\u001b[37m\u001b[0m \u001b[1m0s\u001b[0m 6ms/step - accuracy: 1.0000 - loss: 3.0738e-04 - val_accuracy: 0.9865 - val_loss: 0.0212\n",
      "Epoch 26/50\n",
      "\u001b[1m19/19\u001b[0m \u001b[32m━━━━━━━━━━━━━━━━━━━━\u001b[0m\u001b[37m\u001b[0m \u001b[1m0s\u001b[0m 5ms/step - accuracy: 1.0000 - loss: 2.8391e-04 - val_accuracy: 0.9865 - val_loss: 0.0211\n",
      "Epoch 27/50\n",
      "\u001b[1m19/19\u001b[0m \u001b[32m━━━━━━━━━━━━━━━━━━━━\u001b[0m\u001b[37m\u001b[0m \u001b[1m0s\u001b[0m 5ms/step - accuracy: 1.0000 - loss: 2.4528e-04 - val_accuracy: 0.9865 - val_loss: 0.0210\n",
      "Epoch 28/50\n",
      "\u001b[1m19/19\u001b[0m \u001b[32m━━━━━━━━━━━━━━━━━━━━\u001b[0m\u001b[37m\u001b[0m \u001b[1m0s\u001b[0m 9ms/step - accuracy: 1.0000 - loss: 2.2657e-04 - val_accuracy: 0.9865 - val_loss: 0.0208\n",
      "Epoch 29/50\n",
      "\u001b[1m19/19\u001b[0m \u001b[32m━━━━━━━━━━━━━━━━━━━━\u001b[0m\u001b[37m\u001b[0m \u001b[1m0s\u001b[0m 9ms/step - accuracy: 1.0000 - loss: 2.0148e-04 - val_accuracy: 0.9865 - val_loss: 0.0207\n",
      "Epoch 30/50\n",
      "\u001b[1m19/19\u001b[0m \u001b[32m━━━━━━━━━━━━━━━━━━━━\u001b[0m\u001b[37m\u001b[0m \u001b[1m0s\u001b[0m 6ms/step - accuracy: 1.0000 - loss: 1.9288e-04 - val_accuracy: 0.9865 - val_loss: 0.0206\n",
      "Epoch 31/50\n",
      "\u001b[1m19/19\u001b[0m \u001b[32m━━━━━━━━━━━━━━━━━━━━\u001b[0m\u001b[37m\u001b[0m \u001b[1m0s\u001b[0m 5ms/step - accuracy: 1.0000 - loss: 1.8492e-04 - val_accuracy: 0.9865 - val_loss: 0.0204\n",
      "Epoch 32/50\n",
      "\u001b[1m19/19\u001b[0m \u001b[32m━━━━━━━━━━━━━━━━━━━━\u001b[0m\u001b[37m\u001b[0m \u001b[1m0s\u001b[0m 6ms/step - accuracy: 1.0000 - loss: 1.7353e-04 - val_accuracy: 0.9865 - val_loss: 0.0204\n",
      "Epoch 33/50\n",
      "\u001b[1m19/19\u001b[0m \u001b[32m━━━━━━━━━━━━━━━━━━━━\u001b[0m\u001b[37m\u001b[0m \u001b[1m0s\u001b[0m 9ms/step - accuracy: 1.0000 - loss: 1.5435e-04 - val_accuracy: 0.9865 - val_loss: 0.0203\n",
      "Epoch 34/50\n",
      "\u001b[1m19/19\u001b[0m \u001b[32m━━━━━━━━━━━━━━━━━━━━\u001b[0m\u001b[37m\u001b[0m \u001b[1m0s\u001b[0m 9ms/step - accuracy: 1.0000 - loss: 1.5511e-04 - val_accuracy: 0.9865 - val_loss: 0.0202\n",
      "Epoch 35/50\n",
      "\u001b[1m19/19\u001b[0m \u001b[32m━━━━━━━━━━━━━━━━━━━━\u001b[0m\u001b[37m\u001b[0m \u001b[1m0s\u001b[0m 6ms/step - accuracy: 1.0000 - loss: 1.5045e-04 - val_accuracy: 0.9865 - val_loss: 0.0202\n",
      "Epoch 36/50\n",
      "\u001b[1m19/19\u001b[0m \u001b[32m━━━━━━━━━━━━━━━━━━━━\u001b[0m\u001b[37m\u001b[0m \u001b[1m0s\u001b[0m 5ms/step - accuracy: 1.0000 - loss: 1.2295e-04 - val_accuracy: 0.9865 - val_loss: 0.0202\n",
      "Epoch 37/50\n",
      "\u001b[1m19/19\u001b[0m \u001b[32m━━━━━━━━━━━━━━━━━━━━\u001b[0m\u001b[37m\u001b[0m \u001b[1m0s\u001b[0m 9ms/step - accuracy: 1.0000 - loss: 1.2752e-04 - val_accuracy: 0.9865 - val_loss: 0.0201\n",
      "Epoch 38/50\n",
      "\u001b[1m19/19\u001b[0m \u001b[32m━━━━━━━━━━━━━━━━━━━━\u001b[0m\u001b[37m\u001b[0m \u001b[1m0s\u001b[0m 8ms/step - accuracy: 1.0000 - loss: 1.2024e-04 - val_accuracy: 0.9865 - val_loss: 0.0200\n",
      "Epoch 39/50\n",
      "\u001b[1m19/19\u001b[0m \u001b[32m━━━━━━━━━━━━━━━━━━━━\u001b[0m\u001b[37m\u001b[0m \u001b[1m0s\u001b[0m 6ms/step - accuracy: 1.0000 - loss: 1.1296e-04 - val_accuracy: 0.9865 - val_loss: 0.0200\n",
      "Epoch 40/50\n",
      "\u001b[1m19/19\u001b[0m \u001b[32m━━━━━━━━━━━━━━━━━━━━\u001b[0m\u001b[37m\u001b[0m \u001b[1m0s\u001b[0m 5ms/step - accuracy: 1.0000 - loss: 1.0547e-04 - val_accuracy: 0.9865 - val_loss: 0.0200\n",
      "Epoch 41/50\n",
      "\u001b[1m19/19\u001b[0m \u001b[32m━━━━━━━━━━━━━━━━━━━━\u001b[0m\u001b[37m\u001b[0m \u001b[1m0s\u001b[0m 6ms/step - accuracy: 1.0000 - loss: 1.0262e-04 - val_accuracy: 0.9865 - val_loss: 0.0200\n",
      "Epoch 42/50\n",
      "\u001b[1m19/19\u001b[0m \u001b[32m━━━━━━━━━━━━━━━━━━━━\u001b[0m\u001b[37m\u001b[0m \u001b[1m0s\u001b[0m 8ms/step - accuracy: 1.0000 - loss: 9.5504e-05 - val_accuracy: 0.9865 - val_loss: 0.0199\n",
      "Epoch 43/50\n",
      "\u001b[1m19/19\u001b[0m \u001b[32m━━━━━━━━━━━━━━━━━━━━\u001b[0m\u001b[37m\u001b[0m \u001b[1m0s\u001b[0m 12ms/step - accuracy: 1.0000 - loss: 9.1643e-05 - val_accuracy: 0.9865 - val_loss: 0.0199\n",
      "Epoch 44/50\n",
      "\u001b[1m19/19\u001b[0m \u001b[32m━━━━━━━━━━━━━━━━━━━━\u001b[0m\u001b[37m\u001b[0m \u001b[1m0s\u001b[0m 7ms/step - accuracy: 1.0000 - loss: 8.8623e-05 - val_accuracy: 0.9865 - val_loss: 0.0199\n",
      "Epoch 45/50\n",
      "\u001b[1m19/19\u001b[0m \u001b[32m━━━━━━━━━━━━━━━━━━━━\u001b[0m\u001b[37m\u001b[0m \u001b[1m0s\u001b[0m 5ms/step - accuracy: 1.0000 - loss: 7.9416e-05 - val_accuracy: 0.9865 - val_loss: 0.0198\n",
      "Epoch 46/50\n",
      "\u001b[1m19/19\u001b[0m \u001b[32m━━━━━━━━━━━━━━━━━━━━\u001b[0m\u001b[37m\u001b[0m \u001b[1m0s\u001b[0m 6ms/step - accuracy: 1.0000 - loss: 7.4383e-05 - val_accuracy: 0.9865 - val_loss: 0.0198\n",
      "Epoch 47/50\n",
      "\u001b[1m19/19\u001b[0m \u001b[32m━━━━━━━━━━━━━━━━━━━━\u001b[0m\u001b[37m\u001b[0m \u001b[1m0s\u001b[0m 9ms/step - accuracy: 1.0000 - loss: 7.7801e-05 - val_accuracy: 0.9865 - val_loss: 0.0198\n",
      "Epoch 48/50\n",
      "\u001b[1m19/19\u001b[0m \u001b[32m━━━━━━━━━━━━━━━━━━━━\u001b[0m\u001b[37m\u001b[0m \u001b[1m0s\u001b[0m 9ms/step - accuracy: 1.0000 - loss: 7.1168e-05 - val_accuracy: 0.9865 - val_loss: 0.0198\n",
      "Epoch 49/50\n",
      "\u001b[1m19/19\u001b[0m \u001b[32m━━━━━━━━━━━━━━━━━━━━\u001b[0m\u001b[37m\u001b[0m \u001b[1m0s\u001b[0m 5ms/step - accuracy: 1.0000 - loss: 7.1345e-05 - val_accuracy: 0.9865 - val_loss: 0.0198\n",
      "Epoch 50/50\n",
      "\u001b[1m19/19\u001b[0m \u001b[32m━━━━━━━━━━━━━━━━━━━━\u001b[0m\u001b[37m\u001b[0m \u001b[1m0s\u001b[0m 5ms/step - accuracy: 1.0000 - loss: 6.1121e-05 - val_accuracy: 0.9865 - val_loss: 0.0198\n"
     ]
    }
   ],
   "source": [
    "# Train the model\n",
    "history = model.fit(X_train, y_train, epochs=50, batch_size=32, validation_split=0.2, callbacks=[early_stopping])"
   ]
  },
  {
   "cell_type": "code",
   "execution_count": 48,
   "id": "405e3ec6-09fd-4ef7-918d-e355ac8af9cf",
   "metadata": {},
   "outputs": [
    {
     "name": "stdout",
     "output_type": "stream",
     "text": [
      "\u001b[1m6/6\u001b[0m \u001b[32m━━━━━━━━━━━━━━━━━━━━\u001b[0m\u001b[37m\u001b[0m \u001b[1m0s\u001b[0m 1ms/step - accuracy: 1.0000 - loss: 0.0084 \n",
      "Test Accuracy: 1.0\n"
     ]
    }
   ],
   "source": [
    "# Evaluate the model\n",
    "loss, accuracy = model.evaluate(X_test, y_test)\n",
    "print(f\"Test Accuracy: {accuracy}\")\n"
   ]
  },
  {
   "cell_type": "code",
   "execution_count": 49,
   "id": "30b8c31c-7033-4b28-bb4e-413ac4c99ff6",
   "metadata": {},
   "outputs": [],
   "source": [
    "# Function to predict startup success\n",
    "def predict_startup_success(input_data):\n",
    "    \"\"\"\n",
    "    Predict the success score of a startup based on input data.\n",
    "\n",
    "    Parameters:\n",
    "    input_data (dict): Dictionary containing startup details.\n",
    "\n",
    "    Returns:\n",
    "    float: Predicted success score (0 to 1).\n",
    "    \"\"\"\n",
    "    # List of required columns for minimal prediction\n",
    "    required_columns = X.columns  # Use the columns from the original dataset\n",
    "\n",
    "    # Default values for missing columns\n",
    "    default_values = {\n",
    "        'state_code': 'CA', 'funding_total_usd': 0, 'funding_rounds': 0, 'relationships': 0, 'milestones': 0, 'category_code': 'other'\n",
    "    }\n",
    "    \n",
    "    # Ensure input data has all required columns, adding missing ones with default values\n",
    "    for column in required_columns:\n",
    "        if column not in input_data:\n",
    "            if column in default_values:\n",
    "                input_data[column] = default_values[column]\n",
    "            else:\n",
    "                input_data[column] = 0  # Assign a generic default value for columns not in default_values\n",
    "\n",
    "    # Convert input data to DataFrame\n",
    "    input_df = pd.DataFrame([input_data])\n",
    "    \n",
    "    # Preprocess input data\n",
    "    input_preprocessed = preprocessor.transform(input_df)\n",
    "    \n",
    "    # Make prediction\n",
    "    prediction = model.predict(input_preprocessed)\n",
    "    \n",
    "    return prediction[0][0]"
   ]
  },
  {
   "cell_type": "code",
   "execution_count": 50,
   "id": "59918dc0-7372-4d0c-93b2-d80379b74553",
   "metadata": {},
   "outputs": [],
   "source": [
    "# GUI Implementation\n",
    "def predict_and_display():\n",
    "    input_data = {\n",
    "        'state_code': state_code_var.get(),\n",
    "        'funding_total_usd': float(funding_total_usd_var.get()),\n",
    "        'funding_rounds': int(funding_rounds_var.get()),\n",
    "        'relationships': int(relationships_var.get()),\n",
    "        'milestones': int(milestones_var.get()),\n",
    "        'category_code': category_code_var.get()\n",
    "    }\n",
    "    success_score = predict_startup_success(input_data)\n",
    "    result_var.set(f\"Predicted Success Score: {success_score:.2f}\")"
   ]
  },
  {
   "cell_type": "code",
   "execution_count": 51,
   "id": "9c550e40-5ff2-4d5e-b1af-9eb56aa20eb4",
   "metadata": {},
   "outputs": [
    {
     "data": {
      "text/plain": [
       "''"
      ]
     },
     "execution_count": 51,
     "metadata": {},
     "output_type": "execute_result"
    }
   ],
   "source": [
    "# Create the main window\n",
    "root = tk.Tk()\n",
    "root.title(\"Startup Success Prediction\")"
   ]
  },
  {
   "cell_type": "code",
   "execution_count": 52,
   "id": "c54f6858-47b6-42d2-bc42-a8983418473a",
   "metadata": {},
   "outputs": [],
   "source": [
    "# Create and place the input fields\n",
    "ttk.Label(root, text=\"State Code:\").grid(column=0, row=0, padx=10, pady=5)\n",
    "state_code_var = tk.StringVar()\n",
    "state_code_combobox = ttk.Combobox(root, textvariable=state_code_var)\n",
    "state_code_combobox['values'] = list(startup_data['state_code'].dropna().unique())\n",
    "state_code_combobox.grid(column=1, row=0, padx=10, pady=5)\n"
   ]
  },
  {
   "cell_type": "code",
   "execution_count": 53,
   "id": "9069bc62-6ca3-421e-9386-308cfd26fd11",
   "metadata": {},
   "outputs": [],
   "source": [
    "ttk.Label(root, text=\"Funding Total (USD):\").grid(column=0, row=1, padx=10, pady=5)\n",
    "funding_total_usd_var = tk.StringVar()\n",
    "ttk.Entry(root, textvariable=funding_total_usd_var).grid(column=1, row=1, padx=10, pady=5)"
   ]
  },
  {
   "cell_type": "code",
   "execution_count": 54,
   "id": "93656f00-7561-458e-866f-09dd76e67234",
   "metadata": {},
   "outputs": [],
   "source": [
    "ttk.Label(root, text=\"Funding Rounds:\").grid(column=0, row=2, padx=10, pady=5)\n",
    "funding_rounds_var = tk.StringVar()\n",
    "ttk.Entry(root, textvariable=funding_rounds_var).grid(column=1, row=2, padx=10, pady=5)"
   ]
  },
  {
   "cell_type": "code",
   "execution_count": 55,
   "id": "79b2de99-decd-4bd5-bc7c-b3f88ba18365",
   "metadata": {},
   "outputs": [],
   "source": [
    "ttk.Label(root, text=\"Relationships:\").grid(column=0, row=3, padx=10, pady=5)\n",
    "relationships_var = tk.StringVar()\n",
    "ttk.Entry(root, textvariable=relationships_var).grid(column=1, row=3, padx=10, pady=5)"
   ]
  },
  {
   "cell_type": "code",
   "execution_count": 56,
   "id": "b127f60f-b49f-45d1-8195-bd36678a428f",
   "metadata": {},
   "outputs": [],
   "source": [
    "ttk.Label(root, text=\"Milestones:\").grid(column=0, row=4, padx=10, pady=5)\n",
    "milestones_var = tk.StringVar()\n",
    "ttk.Entry(root, textvariable=milestones_var).grid(column=1, row=4, padx=10, pady=5)"
   ]
  },
  {
   "cell_type": "code",
   "execution_count": 57,
   "id": "7cb35a92-b19e-456b-84b7-33faca448886",
   "metadata": {},
   "outputs": [],
   "source": [
    "ttk.Label(root, text=\"Category Code:\").grid(column=0, row=5, padx=10, pady=5)\n",
    "category_code_var = tk.StringVar()\n",
    "category_code_combobox = ttk.Combobox(root, textvariable=category_code_var)\n",
    "category_code_combobox['values'] = list(startup_data['category_code'].dropna().unique())\n",
    "category_code_combobox.grid(column=1, row=5, padx=10, pady=5)"
   ]
  },
  {
   "cell_type": "code",
   "execution_count": 58,
   "id": "24bd42ce-bd71-4ab0-84b5-404f2aec45d8",
   "metadata": {},
   "outputs": [],
   "source": [
    "# Create and place the result label\n",
    "result_var = tk.StringVar()\n",
    "ttk.Label(root, textvariable=result_var).grid(column=0, row=6, columnspan=2, padx=10, pady=5)\n"
   ]
  },
  {
   "cell_type": "code",
   "execution_count": 59,
   "id": "77e598ef-c517-4737-b91f-9dfcc2b2f776",
   "metadata": {},
   "outputs": [],
   "source": [
    "# Create and place the predict button\n",
    "ttk.Button(root, text=\"Predict Success\", command=predict_and_display).grid(column=0, row=7, columnspan=2, padx=10, pady=5)\n"
   ]
  },
  {
   "cell_type": "code",
   "execution_count": null,
   "id": "058d23df-337d-4dd9-b70e-715fb0e14b71",
   "metadata": {},
   "outputs": [
    {
     "name": "stdout",
     "output_type": "stream",
     "text": [
      "\u001b[1m1/1\u001b[0m \u001b[32m━━━━━━━━━━━━━━━━━━━━\u001b[0m\u001b[37m\u001b[0m \u001b[1m0s\u001b[0m 91ms/step\n",
      "\u001b[1m1/1\u001b[0m \u001b[32m━━━━━━━━━━━━━━━━━━━━\u001b[0m\u001b[37m\u001b[0m \u001b[1m0s\u001b[0m 41ms/step\n"
     ]
    }
   ],
   "source": [
    "# Run the main loop\n",
    "root.mainloop()"
   ]
  },
  {
   "cell_type": "code",
   "execution_count": null,
   "id": "71ffb097-2f09-4755-b254-6f75acbdbfd4",
   "metadata": {},
   "outputs": [],
   "source": []
  }
 ],
 "metadata": {
  "kernelspec": {
   "display_name": "Python 3 (ipykernel)",
   "language": "python",
   "name": "python3"
  },
  "language_info": {
   "codemirror_mode": {
    "name": "ipython",
    "version": 3
   },
   "file_extension": ".py",
   "mimetype": "text/x-python",
   "name": "python",
   "nbconvert_exporter": "python",
   "pygments_lexer": "ipython3",
   "version": "3.11.5"
  }
 },
 "nbformat": 4,
 "nbformat_minor": 5
}
